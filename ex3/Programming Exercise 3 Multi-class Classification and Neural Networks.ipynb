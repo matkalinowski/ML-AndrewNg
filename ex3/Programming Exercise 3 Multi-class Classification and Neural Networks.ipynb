{
 "cells": [
  {
   "cell_type": "code",
   "execution_count": 69,
   "metadata": {
    "collapsed": true
   },
   "outputs": [],
   "source": [
    "%matplotlib inline\n",
    "from IPython.core.interactiveshell import InteractiveShell\n",
    "InteractiveShell.ast_node_interactivity = \"all\"\n",
    "\n",
    "import numpy as np\n",
    "import matplotlib.pyplot as plt\n",
    "import pandas as pd\n",
    "import seaborn as sns\n",
    "import scipy.io as sio\n",
    "import matplotlib.cm as cm \n",
    "import scipy\n",
    "\n",
    "from sklearn.metrics import accuracy_score\n",
    "from scipy.optimize import fmin_cg\n",
    "from scipy.optimize import minimize\n",
    "\n",
    "import random"
   ]
  },
  {
   "cell_type": "markdown",
   "metadata": {},
   "source": [
    "<img src='images/0.png'></img>\n",
    "<img src='images/1.png'></img>"
   ]
  },
  {
   "cell_type": "code",
   "execution_count": 89,
   "metadata": {
    "collapsed": false
   },
   "outputs": [],
   "source": [
    "digits = sio.loadmat('data/ex3data1.mat')\n",
    "\n",
    "X = digits['X']\n",
    "y = digits['y']"
   ]
  },
  {
   "cell_type": "code",
   "execution_count": 90,
   "metadata": {
    "collapsed": false
   },
   "outputs": [
    {
     "data": {
      "text/plain": [
       "array([[  0.00000000e+00,   0.00000000e+00,   0.00000000e+00,\n",
       "          0.00000000e+00,   0.00000000e+00,   0.00000000e+00,\n",
       "          0.00000000e+00,   0.00000000e+00,   0.00000000e+00,\n",
       "          0.00000000e+00,   0.00000000e+00,   0.00000000e+00,\n",
       "          0.00000000e+00,   0.00000000e+00,   0.00000000e+00,\n",
       "          0.00000000e+00,   0.00000000e+00,   0.00000000e+00,\n",
       "          0.00000000e+00,   0.00000000e+00],\n",
       "       [  0.00000000e+00,   0.00000000e+00,   0.00000000e+00,\n",
       "          0.00000000e+00,   0.00000000e+00,   0.00000000e+00,\n",
       "          0.00000000e+00,   0.00000000e+00,   0.00000000e+00,\n",
       "          0.00000000e+00,   0.00000000e+00,   0.00000000e+00,\n",
       "          0.00000000e+00,   0.00000000e+00,   0.00000000e+00,\n",
       "          0.00000000e+00,   0.00000000e+00,   0.00000000e+00,\n",
       "          0.00000000e+00,   0.00000000e+00],\n",
       "       [  0.00000000e+00,   0.00000000e+00,   0.00000000e+00,\n",
       "          0.00000000e+00,   0.00000000e+00,   0.00000000e+00,\n",
       "          0.00000000e+00,   0.00000000e+00,   0.00000000e+00,\n",
       "          3.22856793e-04,  -9.15576210e-04,  -2.53532265e-02,\n",
       "         -3.85931128e-02,  -3.84044678e-02,  -1.93746688e-02,\n",
       "          3.90933920e-04,   8.19371408e-05,   0.00000000e+00,\n",
       "          0.00000000e+00,   0.00000000e+00],\n",
       "       [  0.00000000e+00,   0.00000000e+00,   0.00000000e+00,\n",
       "          0.00000000e+00,   0.00000000e+00,   0.00000000e+00,\n",
       "          0.00000000e+00,   1.17402470e-04,  -8.24754902e-04,\n",
       "         -7.05284926e-03,  -1.09662139e-02,   1.96883340e-01,\n",
       "          3.20908867e-01,   3.18912394e-01,   1.41719652e-01,\n",
       "         -1.56820193e-02,  -2.65063317e-04,   3.30194448e-05,\n",
       "          0.00000000e+00,   0.00000000e+00],\n",
       "       [  0.00000000e+00,   0.00000000e+00,   0.00000000e+00,\n",
       "          0.00000000e+00,   0.00000000e+00,   0.00000000e+00,\n",
       "          2.45098039e-04,  -1.96159961e-03,  -1.20715891e-02,\n",
       "          5.62372345e-03,   2.90347478e-01,   8.64413041e-01,\n",
       "          9.88390846e-01,   9.85526535e-01,   7.99468444e-01,\n",
       "          1.56723175e-01,  -1.74198325e-02,   5.39317598e-04,\n",
       "          0.00000000e+00,   0.00000000e+00],\n",
       "       [  0.00000000e+00,   0.00000000e+00,   0.00000000e+00,\n",
       "          0.00000000e+00,   0.00000000e+00,   2.38522588e-17,\n",
       "         -1.08847358e-03,  -2.90722793e-02,   2.35753608e-01,\n",
       "          7.92536322e-01,   1.00266258e+00,   1.05862132e+00,\n",
       "          8.76247129e-01,   9.29120694e-01,   1.06343234e+00,\n",
       "          7.31781386e-01,   3.59943151e-02,  -1.31336370e-02,\n",
       "          4.04241558e-04,   0.00000000e+00],\n",
       "       [  0.00000000e+00,   0.00000000e+00,   0.00000000e+00,\n",
       "          0.00000000e+00,   2.45098039e-04,  -1.08847358e-03,\n",
       "         -3.02730120e-02,   2.22924174e-01,   8.56914097e-01,\n",
       "          1.00723112e+00,   4.52620660e-01,   4.22602805e-01,\n",
       "          1.82431498e-01,   2.29894182e-01,   7.63649901e-01,\n",
       "          9.83978673e-01,   4.54453908e-01,  -1.25295544e-03,\n",
       "         -4.18113426e-03,   0.00000000e+00],\n",
       "       [  0.00000000e+00,   0.00000000e+00,   0.00000000e+00,\n",
       "          1.95670784e-05,  -1.18788472e-03,  -1.45840807e-02,\n",
       "          2.27772733e-01,   8.49794333e-01,   1.03787200e+00,\n",
       "          5.89619682e-01,  -4.63046078e-02,  -5.30524642e-02,\n",
       "         -2.38986844e-02,  -6.55092026e-02,   4.97592825e-01,\n",
       "          1.01926148e+00,   9.17334223e-01,   1.06986866e-01,\n",
       "         -1.69564361e-02,   0.00000000e+00],\n",
       "       [  0.00000000e+00,   0.00000000e+00,   0.00000000e+00,\n",
       "         -9.16564542e-05,  -1.67706121e-02,   1.15367579e-01,\n",
       "          8.06616524e-01,   1.02730740e+00,   7.50930573e-01,\n",
       "          1.01062687e-01,  -2.01214937e-02,   1.34701797e-04,\n",
       "          0.00000000e+00,  -1.90195057e-02,   2.72716469e-01,\n",
       "          9.73519029e-01,   9.89230358e-01,   1.34740430e-01,\n",
       "         -1.98124319e-02,   0.00000000e+00],\n",
       "       [  0.00000000e+00,   0.00000000e+00,   0.00000000e+00,\n",
       "         -8.66166258e-04,  -2.72397706e-02,   4.07026008e-01,\n",
       "          1.01467490e+00,   8.12184787e-01,   9.60610532e-02,\n",
       "          4.99268110e-04,   8.88480392e-06,  -4.68750000e-05,\n",
       "          8.80518528e-05,  -2.97574551e-02,   4.51886268e-01,\n",
       "          1.02012866e+00,   7.17333725e-01,   4.56954975e-02,\n",
       "         -1.02456087e-02,   0.00000000e+00],\n",
       "       [  0.00000000e+00,   3.31857514e-18,   9.78353920e-04,\n",
       "         -1.79511846e-02,   8.23780467e-02,   8.85095537e-01,\n",
       "          1.01910405e+00,   8.77518531e-01,   5.05646276e-01,\n",
       "          2.22961023e-01,  -8.77200776e-03,  -7.87837010e-04,\n",
       "          9.95475113e-04,  -4.42252349e-02,   5.57143689e-01,\n",
       "          1.02120044e+00,   4.57385961e-01,  -1.32357527e-02,\n",
       "         -3.22933687e-03,   0.00000000e+00],\n",
       "       [  0.00000000e+00,   4.30623638e-04,  -1.41265134e-02,\n",
       "          5.47903561e-02,   5.13331563e-01,   9.86177730e-01,\n",
       "          1.00378859e+00,   1.02784066e+00,   8.81669237e-01,\n",
       "          1.75647535e-01,  -2.02476171e-02,   1.37016612e-04,\n",
       "         -2.60476200e-02,   1.41610890e-01,   8.07201287e-01,\n",
       "          7.40654480e-01,   9.93945568e-02,  -1.73559985e-02,\n",
       "          2.28758170e-04,   0.00000000e+00],\n",
       "       [  0.00000000e+00,  -6.68558830e-03,   2.27848153e-02,\n",
       "          5.18736667e-01,   9.43501199e-01,   9.50583768e-01,\n",
       "          9.06830915e-01,   8.26161357e-01,   2.59302617e-01,\n",
       "         -8.14776881e-03,  -2.08012311e-03,  -1.69574892e-02,\n",
       "         -1.98703986e-02,   5.62824199e-01,   9.66719253e-01,\n",
       "          2.69194081e-01,  -2.92052403e-02,   1.07273151e-03,\n",
       "          0.00000000e+00,   0.00000000e+00],\n",
       "       [  0.00000000e+00,  -2.18887868e-02,   1.52704282e-01,\n",
       "          1.05740831e+00,   1.00747316e+00,   6.90700963e-01,\n",
       "          3.15753472e-01,   2.88350828e-01,   5.17292688e-02,\n",
       "         -3.85486792e-02,  -3.64513889e-02,   5.55434368e-02,\n",
       "          5.03607069e-01,   9.99676777e-01,   4.99540543e-01,\n",
       "         -2.16885042e-02,  -2.08379289e-03,   6.11471200e-05,\n",
       "          0.00000000e+00,   0.00000000e+00],\n",
       "       [  0.00000000e+00,  -9.33091639e-03,   4.37851596e-02,\n",
       "          6.25597750e-01,   9.98682683e-01,   9.47196708e-01,\n",
       "          8.44518263e-01,   8.65640839e-01,   7.60129596e-01,\n",
       "          5.74255498e-01,   5.76234835e-01,   7.58724282e-01,\n",
       "          1.03109059e+00,   6.83323734e-01,   8.16175279e-02,\n",
       "         -1.06374251e-02,  -1.62173203e-04,   0.00000000e+00,\n",
       "          0.00000000e+00,   0.00000000e+00],\n",
       "       [  0.00000000e+00,   3.84497549e-04,  -1.98596164e-02,\n",
       "          1.09942981e-01,   6.48968835e-01,   7.75507115e-01,\n",
       "          7.76910846e-01,   7.73937959e-01,   7.70750272e-01,\n",
       "          7.68581240e-01,   7.71992017e-01,   7.83497838e-01,\n",
       "          6.10717494e-01,   6.84297045e-02,  -1.89090584e-02,\n",
       "          3.23529412e-04,   3.58455882e-05,   0.00000000e+00,\n",
       "          0.00000000e+00,   0.00000000e+00],\n",
       "       [  0.00000000e+00,   3.21691176e-05,   3.98118707e-04,\n",
       "         -8.11094090e-03,   5.67306645e-03,   1.52478554e-02,\n",
       "          1.39710989e-02,   1.40424531e-02,   1.47417279e-02,\n",
       "          1.56728452e-02,   1.54803411e-02,   1.53017940e-02,\n",
       "          2.51445450e-03,  -8.21090346e-03,   3.38235294e-04,\n",
       "          3.58455882e-05,   0.00000000e+00,   0.00000000e+00,\n",
       "          0.00000000e+00,   0.00000000e+00],\n",
       "       [  0.00000000e+00,   0.00000000e+00,   3.90527968e-05,\n",
       "         -1.03134809e-04,  -4.63169051e-03,  -6.26391097e-03,\n",
       "         -6.06579430e-03,  -6.06579430e-03,  -6.06579430e-03,\n",
       "         -6.06579430e-03,  -6.06579430e-03,  -6.19216502e-03,\n",
       "         -4.07939006e-03,   1.26370715e-04,   0.00000000e+00,\n",
       "          0.00000000e+00,   0.00000000e+00,   0.00000000e+00,\n",
       "          0.00000000e+00,   0.00000000e+00],\n",
       "       [  0.00000000e+00,   0.00000000e+00,   0.00000000e+00,\n",
       "          0.00000000e+00,   0.00000000e+00,   0.00000000e+00,\n",
       "          0.00000000e+00,   0.00000000e+00,   0.00000000e+00,\n",
       "          0.00000000e+00,   0.00000000e+00,   0.00000000e+00,\n",
       "          0.00000000e+00,   0.00000000e+00,   0.00000000e+00,\n",
       "          0.00000000e+00,   0.00000000e+00,   0.00000000e+00,\n",
       "          0.00000000e+00,   0.00000000e+00],\n",
       "       [  0.00000000e+00,   0.00000000e+00,   0.00000000e+00,\n",
       "          0.00000000e+00,   0.00000000e+00,   0.00000000e+00,\n",
       "          0.00000000e+00,   0.00000000e+00,   0.00000000e+00,\n",
       "          0.00000000e+00,   0.00000000e+00,   0.00000000e+00,\n",
       "          0.00000000e+00,   0.00000000e+00,   0.00000000e+00,\n",
       "          0.00000000e+00,   0.00000000e+00,   0.00000000e+00,\n",
       "          0.00000000e+00,   0.00000000e+00]])"
      ]
     },
     "execution_count": 90,
     "metadata": {},
     "output_type": "execute_result"
    }
   ],
   "source": [
    "X[1].reshape(20,20)"
   ]
  },
  {
   "cell_type": "code",
   "execution_count": 104,
   "metadata": {
    "collapsed": false
   },
   "outputs": [
    {
     "data": {
      "image/png": "[encoded data removed]",
      "text/plain": [
       "<PIL.Image.Image image mode=L size=20x20 at 0x1ABEE4745C0>"
      ]
     },
     "execution_count": 104,
     "metadata": {},
     "output_type": "execute_result"
    },
    {
     "data": {
      "image/png": "[encoded data removed]",
      "text/plain": [
       "<PIL.Image.Image image mode=L size=20x20 at 0x1ABEE474A58>"
      ]
     },
     "execution_count": 104,
     "metadata": {},
     "output_type": "execute_result"
    },
    {
     "data": {
      "image/png": "[encoded data removed]",
      "text/plain": [
       "<PIL.Image.Image image mode=L size=20x20 at 0x1ABEE474978>"
      ]
     },
     "execution_count": 104,
     "metadata": {},
     "output_type": "execute_result"
    }
   ],
   "source": [
    "scipy.misc.toimage(X[1].reshape(20,20), cmin=0.0)\n",
    "scipy.misc.toimage(X[500].reshape(20,20), cmin=0.0)\n",
    "scipy.misc.toimage(X[1200].reshape(20,20), cmin=0.0)"
   ]
  },
  {
   "cell_type": "markdown",
   "metadata": {},
   "source": [
    "I decided to copy functions to visualize the data because Course creator provided function to do it and I found it more time consuming than useful."
   ]
  },
  {
   "cell_type": "code",
   "execution_count": 70,
   "metadata": {
    "collapsed": false
   },
   "outputs": [],
   "source": [
    "def getDatumImg(row):\n",
    "    \"\"\"\n",
    "    Function that is handed a single np array with shape 1x400,\n",
    "    crates an image object from it, and returns it\n",
    "    \"\"\"\n",
    "    width, height = 20, 20\n",
    "    square = row[1:].reshape(width,height)\n",
    "    return square.T\n",
    "    \n",
    "def displayData(indices_to_display = None):\n",
    "    \"\"\"\n",
    "    Function that picks 100 random rows from X, creates a 20x20 image from each,\n",
    "    then stitches them together into a 10x10 grid of images, and shows it.\n",
    "    \"\"\"\n",
    "    width, height = 20, 20\n",
    "    nrows, ncols = 10, 10\n",
    "    if not indices_to_display:\n",
    "        indices_to_display = random.sample(range(X.shape[0]), nrows*ncols)\n",
    "        \n",
    "    big_picture = np.zeros((height*nrows,width*ncols))\n",
    "    \n",
    "    irow, icol = 0, 0\n",
    "    for idx in indices_to_display:\n",
    "        if icol == ncols:\n",
    "            irow += 1\n",
    "            icol  = 0\n",
    "        iimg = getDatumImg(X[idx])\n",
    "        big_picture[irow*height:irow*height+iimg.shape[0],icol*width:icol*width+iimg.shape[1]] = iimg\n",
    "        icol += 1\n",
    "    fig = plt.figure(figsize=(6,6))\n",
    "    img = scipy.misc.toimage( big_picture )\n",
    "    plt.imshow(img,cmap = cm.Greys_r)"
   ]
  },
  {
   "cell_type": "code",
   "execution_count": 71,
   "metadata": {
    "collapsed": false
   },
   "outputs": [
    {
     "data": {
      "image/png": "[encoded data removed]",
      "text/plain": [
       "<matplotlib.figure.Figure at 0x1abe9ba1eb8>"
      ]
     },
     "metadata": {},
     "output_type": "display_data"
    }
   ],
   "source": [
    "X = np.insert(X,0,1,axis=1)\n",
    "displayData()"
   ]
  },
  {
   "cell_type": "markdown",
   "metadata": {},
   "source": [
    "<img src='images/2.png'></img>\n",
    "<img src='images/3.png'></img>\n",
    "<img src='images/4.png'></img>\n",
    "<img src='images/5.png'></img>"
   ]
  },
  {
   "cell_type": "code",
   "execution_count": 107,
   "metadata": {
    "collapsed": true
   },
   "outputs": [],
   "source": [
    "X = pd.DataFrame(digits['X'])\n",
    "y = pd.DataFrame(digits['y'])"
   ]
  },
  {
   "cell_type": "code",
   "execution_count": 310,
   "metadata": {
    "collapsed": false
   },
   "outputs": [],
   "source": [
    "def sigmoid(val):\n",
    "     return 1/(1 + np.exp(-val))\n",
    "    \n",
    "def calculate_hypothesis(theta, X):\n",
    "    val = np.sum(X*theta, axis=1)\n",
    "    return sigmoid(val)\n",
    "\n",
    "def calculate_cost_func(theta, X, y, lam=0):\n",
    "    m = X.shape[0]\n",
    "    hypothesis = calculate_hypothesis(theta, X)\n",
    "    cost = - np.sum((y * np.log(hypothesis)) + (1-y)*np.log(1-hypothesis))/m\n",
    "    reg = lam*np.sum(np.power(theta[1:],2))/(2*m)\n",
    "    return cost + reg\n",
    "\n",
    "def calculate_gradient(theta, X, y, lam=0):\n",
    "    m = X.shape[0]\n",
    "    gradient_history = []\n",
    "    for ind, t in enumerate(theta):\n",
    "        gradient = 1/m * np.sum((calculate_hypothesis(theta, X) - y)* X.iloc[:, ind])\n",
    "        regularization = 0\n",
    "        if ind is not 0:\n",
    "            regularization = lam/m*theta[ind]\n",
    "        gradient = gradient + regularization\n",
    "        gradient_history.append(gradient)\n",
    "    return np.array(gradient_history)\n",
    "\n",
    "def lrCostFunction(theta, X, y, lam):\n",
    "    cost = calculate_cost_func(theta, X, y, lam)\n",
    "    gradient = calculate_gradient(theta, X, y, lam)\n",
    "    return cost, gradient"
   ]
  },
  {
   "cell_type": "code",
   "execution_count": 311,
   "metadata": {
    "collapsed": false
   },
   "outputs": [
    {
     "name": "stdout",
     "output_type": "stream",
     "text": [
      "Expected cost: 2.534819\n",
      "Calculated cost: 2.5348193961097443\n",
      "Calculated gradient: [ 0.14656137 -0.54855841  0.72472227  1.39800296]\n",
      "Expected Gradients:  0.146561 -0.548558 0.724722 1.398003\n"
     ]
    }
   ],
   "source": [
    "theta_t = np.array([-2, -1, 1, 2])\n",
    "# X_t = np.array([[1,.1,.6,1.1], [1,.2,.7,1.2], [1,.3,.8,1.3], [1,.4,.9,1.4], [1,.5,1,1.5]])\n",
    "ar =np.array(range(1,16))/10\n",
    "ar = ar.reshape([3,5]).transpose()\n",
    "X_t = pd.DataFrame(np.c_[np.ones(5), ar])\n",
    "y_t = np.array([1, 0, 1, 0, 1])\n",
    "lambda_t = 3\n",
    "\n",
    "cost, gradient = lrCostFunction(theta_t, X_t, y_t, lambda_t)\n",
    "\n",
    "print('Expected cost: 2.534819')\n",
    "print(f'Calculated cost: {cost}')\n",
    "print(f'Calculated gradient: {gradient}')\n",
    "print('Expected Gradients:  0.146561 -0.548558 0.724722 1.398003')"
   ]
  },
  {
   "cell_type": "markdown",
   "metadata": {},
   "source": [
    "<img src='images/6.png'></img>\n",
    "<img src='images/7.png'></img>"
   ]
  },
  {
   "cell_type": "code",
   "execution_count": 268,
   "metadata": {
    "collapsed": false
   },
   "outputs": [
    {
     "data": {
      "text/html": [
       "<div>\n",
       "<style>\n",
       "    .dataframe thead tr:only-child th {\n",
       "        text-align: right;\n",
       "    }\n",
       "\n",
       "    .dataframe thead th {\n",
       "        text-align: left;\n",
       "    }\n",
       "\n",
       "    .dataframe tbody tr th {\n",
       "        vertical-align: top;\n",
       "    }\n",
       "</style>\n",
       "<table border=\"1\" class=\"dataframe\">\n",
       "  <thead>\n",
       "    <tr style=\"text-align: right;\">\n",
       "      <th></th>\n",
       "      <th>ones</th>\n",
       "      <th>0</th>\n",
       "      <th>1</th>\n",
       "      <th>2</th>\n",
       "      <th>3</th>\n",
       "      <th>4</th>\n",
       "      <th>5</th>\n",
       "      <th>6</th>\n",
       "      <th>7</th>\n",
       "      <th>8</th>\n",
       "      <th>...</th>\n",
       "      <th>390</th>\n",
       "      <th>391</th>\n",
       "      <th>392</th>\n",
       "      <th>393</th>\n",
       "      <th>394</th>\n",
       "      <th>395</th>\n",
       "      <th>396</th>\n",
       "      <th>397</th>\n",
       "      <th>398</th>\n",
       "      <th>399</th>\n",
       "    </tr>\n",
       "  </thead>\n",
       "  <tbody>\n",
       "    <tr>\n",
       "      <th>0</th>\n",
       "      <td>1.0</td>\n",
       "      <td>0.0</td>\n",
       "      <td>0.0</td>\n",
       "      <td>0.0</td>\n",
       "      <td>0.0</td>\n",
       "      <td>0.0</td>\n",
       "      <td>0.0</td>\n",
       "      <td>0.0</td>\n",
       "      <td>0.0</td>\n",
       "      <td>0.0</td>\n",
       "      <td>...</td>\n",
       "      <td>0.0</td>\n",
       "      <td>0.0</td>\n",
       "      <td>0.0</td>\n",
       "      <td>0.0</td>\n",
       "      <td>0.0</td>\n",
       "      <td>0.0</td>\n",
       "      <td>0.0</td>\n",
       "      <td>0.0</td>\n",
       "      <td>0.0</td>\n",
       "      <td>0.0</td>\n",
       "    </tr>\n",
       "    <tr>\n",
       "      <th>1</th>\n",
       "      <td>1.0</td>\n",
       "      <td>0.0</td>\n",
       "      <td>0.0</td>\n",
       "      <td>0.0</td>\n",
       "      <td>0.0</td>\n",
       "      <td>0.0</td>\n",
       "      <td>0.0</td>\n",
       "      <td>0.0</td>\n",
       "      <td>0.0</td>\n",
       "      <td>0.0</td>\n",
       "      <td>...</td>\n",
       "      <td>0.0</td>\n",
       "      <td>0.0</td>\n",
       "      <td>0.0</td>\n",
       "      <td>0.0</td>\n",
       "      <td>0.0</td>\n",
       "      <td>0.0</td>\n",
       "      <td>0.0</td>\n",
       "      <td>0.0</td>\n",
       "      <td>0.0</td>\n",
       "      <td>0.0</td>\n",
       "    </tr>\n",
       "  </tbody>\n",
       "</table>\n",
       "<p>2 rows × 401 columns</p>\n",
       "</div>"
      ],
      "text/plain": [
       "   ones    0    1    2    3    4    5    6    7    8 ...   390  391  392  393  \\\n",
       "0   1.0  0.0  0.0  0.0  0.0  0.0  0.0  0.0  0.0  0.0 ...   0.0  0.0  0.0  0.0   \n",
       "1   1.0  0.0  0.0  0.0  0.0  0.0  0.0  0.0  0.0  0.0 ...   0.0  0.0  0.0  0.0   \n",
       "\n",
       "   394  395  396  397  398  399  \n",
       "0  0.0  0.0  0.0  0.0  0.0  0.0  \n",
       "1  0.0  0.0  0.0  0.0  0.0  0.0  \n",
       "\n",
       "[2 rows x 401 columns]"
      ]
     },
     "execution_count": 268,
     "metadata": {},
     "output_type": "execute_result"
    }
   ],
   "source": [
    "X = pd.DataFrame(digits['X'])\n",
    "X.insert(0, value=np.ones(X.shape[0]), column='ones')\n",
    "X.head(2)"
   ]
  },
  {
   "cell_type": "code",
   "execution_count": 285,
   "metadata": {
    "collapsed": false
   },
   "outputs": [
    {
     "data": {
      "text/html": [
       "<div>\n",
       "<style>\n",
       "    .dataframe thead tr:only-child th {\n",
       "        text-align: right;\n",
       "    }\n",
       "\n",
       "    .dataframe thead th {\n",
       "        text-align: left;\n",
       "    }\n",
       "\n",
       "    .dataframe tbody tr th {\n",
       "        vertical-align: top;\n",
       "    }\n",
       "</style>\n",
       "<table border=\"1\" class=\"dataframe\">\n",
       "  <thead>\n",
       "    <tr style=\"text-align: right;\">\n",
       "      <th></th>\n",
       "      <th>1</th>\n",
       "      <th>2</th>\n",
       "      <th>3</th>\n",
       "      <th>4</th>\n",
       "      <th>5</th>\n",
       "      <th>6</th>\n",
       "      <th>7</th>\n",
       "      <th>8</th>\n",
       "      <th>9</th>\n",
       "      <th>10</th>\n",
       "    </tr>\n",
       "  </thead>\n",
       "  <tbody>\n",
       "    <tr>\n",
       "      <th>0</th>\n",
       "      <td>0</td>\n",
       "      <td>0</td>\n",
       "      <td>0</td>\n",
       "      <td>0</td>\n",
       "      <td>0</td>\n",
       "      <td>0</td>\n",
       "      <td>0</td>\n",
       "      <td>0</td>\n",
       "      <td>0</td>\n",
       "      <td>1</td>\n",
       "    </tr>\n",
       "    <tr>\n",
       "      <th>1</th>\n",
       "      <td>0</td>\n",
       "      <td>0</td>\n",
       "      <td>0</td>\n",
       "      <td>0</td>\n",
       "      <td>0</td>\n",
       "      <td>0</td>\n",
       "      <td>0</td>\n",
       "      <td>0</td>\n",
       "      <td>0</td>\n",
       "      <td>1</td>\n",
       "    </tr>\n",
       "  </tbody>\n",
       "</table>\n",
       "</div>"
      ],
      "text/plain": [
       "   1   2   3   4   5   6   7   8   9   10\n",
       "0   0   0   0   0   0   0   0   0   0   1\n",
       "1   0   0   0   0   0   0   0   0   0   1"
      ]
     },
     "execution_count": 285,
     "metadata": {},
     "output_type": "execute_result"
    }
   ],
   "source": [
    "y_dummies = pd.get_dummies(y[0])\n",
    "y_dummies.head(2)"
   ]
  },
  {
   "cell_type": "code",
   "execution_count": 494,
   "metadata": {
    "collapsed": false,
    "scrolled": false
   },
   "outputs": [
    {
     "name": "stdout",
     "output_type": "stream",
     "text": [
      "Starting calculations at: 2017-05-28 22:14:57.503237\n",
      "Calculating theta for 1 class.\n",
      "Warning: Maximum number of iterations has been exceeded.\n",
      "         Current function value: 0.029297\n",
      "         Iterations: 10\n",
      "         Function evaluations: 29\n",
      "         Gradient evaluations: 29\n",
      "Finished at: 2017-05-28 22:19:29.257321.\n",
      "Calculating theta for 2 class.\n",
      "Warning: Maximum number of iterations has been exceeded.\n",
      "         Current function value: 0.084485\n",
      "         Iterations: 10\n",
      "         Function evaluations: 26\n",
      "         Gradient evaluations: 26\n",
      "Finished at: 2017-05-28 23:19:50.894687.\n",
      "Calculating theta for 3 class.\n",
      "Warning: Maximum number of iterations has been exceeded.\n",
      "         Current function value: 0.083454\n",
      "         Iterations: 10\n",
      "         Function evaluations: 28\n",
      "         Gradient evaluations: 28\n",
      "Finished at: 2017-05-28 23:26:38.962824.\n",
      "Calculating theta for 4 class.\n",
      "Warning: Maximum number of iterations has been exceeded.\n",
      "         Current function value: 0.060838\n",
      "         Iterations: 10\n",
      "         Function evaluations: 27\n",
      "         Gradient evaluations: 27\n",
      "Finished at: 2017-05-28 23:32:46.678481.\n",
      "Calculating theta for 5 class.\n",
      "Warning: Maximum number of iterations has been exceeded.\n",
      "         Current function value: 0.114597\n",
      "         Iterations: 10\n",
      "         Function evaluations: 21\n",
      "         Gradient evaluations: 21\n",
      "Finished at: 2017-05-28 23:37:16.434202.\n",
      "Calculating theta for 6 class.\n",
      "Warning: Maximum number of iterations has been exceeded.\n",
      "         Current function value: 0.036485\n",
      "         Iterations: 10\n",
      "         Function evaluations: 30\n",
      "         Gradient evaluations: 30\n",
      "Finished at: 2017-05-28 23:43:17.365656.\n",
      "Calculating theta for 7 class.\n",
      "Warning: Maximum number of iterations has been exceeded.\n",
      "         Current function value: 0.050254\n",
      "         Iterations: 10\n",
      "         Function evaluations: 29\n",
      "         Gradient evaluations: 29\n",
      "Finished at: 2017-05-28 23:47:47.288433.\n",
      "Calculating theta for 8 class.\n",
      "Warning: Desired error not necessarily achieved due to precision loss.\n",
      "         Current function value: 0.519344\n",
      "         Iterations: 1\n",
      "         Function evaluations: 14\n",
      "         Gradient evaluations: 2\n",
      "Finished at: 2017-05-28 23:48:02.249240.\n",
      "Calculating theta for 9 class.\n",
      "Warning: Maximum number of iterations has been exceeded.\n",
      "         Current function value: 0.117550\n",
      "         Iterations: 10\n",
      "         Function evaluations: 23\n",
      "         Gradient evaluations: 23\n",
      "Finished at: 2017-05-28 23:51:00.385275.\n",
      "Calculating theta for 10 class.\n",
      "Warning: Maximum number of iterations has been exceeded.\n",
      "         Current function value: 0.027527\n",
      "         Iterations: 10\n",
      "         Function evaluations: 26\n",
      "         Gradient evaluations: 26\n",
      "Finished at: 2017-05-28 23:54:28.815330.\n",
      "Calculations ended.\n"
     ]
    }
   ],
   "source": [
    "init_theta = np.zeros(X.shape[1])\n",
    "lam = .1\n",
    "theta_history = dict()\n",
    "\n",
    "print(f'Starting calculations at: {str(datetime.now())}')\n",
    "for it in range(1,y_dummies.shape[1] + 1):\n",
    "    print(f'Calculating theta for {it} class.')\n",
    "    min_fun = fmin_cg(calculate_cost_func, init_theta, fprime=calculate_gradient, args=(X, y_dummies[it], lam), maxiter=10, full_output=True)\n",
    "    theta_history[it] = min_fun[0]\n",
    "    print(f'Finished at: {str(datetime.now())}.')\n",
    "print('Calculations ended.')"
   ]
  },
  {
   "cell_type": "code",
   "execution_count": 501,
   "metadata": {
    "collapsed": false
   },
   "outputs": [],
   "source": [
    "#make copy of theta output\n",
    "tmp = dict()    \n",
    "for theta in theta_history:\n",
    "    tmp[theta] = theta_history[theta]"
   ]
  },
  {
   "cell_type": "markdown",
   "metadata": {},
   "source": [
    "<img src='images/8.png'></img>"
   ]
  },
  {
   "cell_type": "code",
   "execution_count": 420,
   "metadata": {
    "collapsed": true
   },
   "outputs": [],
   "source": [
    "def calculate_hypothesis_for_row(theta, X):\n",
    "    val = np.sum(X*theta)\n",
    "    return sigmoid(val)\n",
    "def predict_for_row(theta, X):\n",
    "    return calculate_hypothesis_for_row(theta, X)\n",
    "\n",
    "def predict(theta, X):\n",
    "    return calculate_hypothesis(theta, X)\n",
    "\n",
    "def get_prediction_results(theta_history, X):\n",
    "    predictions = dict()\n",
    "    for idx in theta_history:\n",
    "        predictions[idx] = predict(theta_history[idx], X)\n",
    "    return pd.DataFrame(predictions).T.idxmax()"
   ]
  },
  {
   "cell_type": "code",
   "execution_count": 507,
   "metadata": {
    "collapsed": false
   },
   "outputs": [
    {
     "data": {
      "text/plain": [
       "0.83360000000000001"
      ]
     },
     "execution_count": 507,
     "metadata": {},
     "output_type": "execute_result"
    }
   ],
   "source": [
    "predicted = get_prediction_results(theta_history, X)\n",
    "accuracy_score(y, predicted)"
   ]
  },
  {
   "cell_type": "markdown",
   "metadata": {},
   "source": [
    "Predicted result is pretty low it may be because of warning:\n",
    "* Warning: Desired error not necessarily achieved due to precision loss.\n",
    "* this may help https://stackoverflow.com/questions/33853929/fmin-cg-desired-error-not-necessarily-achieved-due-to-precision-loss\n",
    "\n",
    "in class 8\n",
    "or/and because of small ammount of max iterations for algorithm. \n",
    "\n",
    "I Consider to retrain set on more interations and fix warning using different algorithm. This one predicts only 18 images as digit 8 so it is likely a problem."
   ]
  },
  {
   "cell_type": "code",
   "execution_count": 513,
   "metadata": {
    "collapsed": false,
    "scrolled": true
   },
   "outputs": [
    {
     "name": "stdout",
     "output_type": "stream",
     "text": [
      "Starting calculations at: 2017-05-29 10:16:56.498996\n",
      "Calculating theta for 1 class.\n",
      "Warning: Maximum number of iterations has been exceeded.\n",
      "         Current function value: 0.042065\n",
      "         Iterations: 10\n",
      "         Function evaluations: 11\n",
      "         Gradient evaluations: 11\n",
      "Finished at: 2017-05-29 10:18:41.481764.\n",
      "Calculating theta for 2 class.\n",
      "Warning: Maximum number of iterations has been exceeded.\n",
      "         Current function value: 0.104567\n",
      "         Iterations: 10\n",
      "         Function evaluations: 11\n",
      "         Gradient evaluations: 11\n",
      "Finished at: 2017-05-29 10:20:42.767038.\n",
      "Calculating theta for 3 class.\n",
      "Warning: Maximum number of iterations has been exceeded.\n",
      "         Current function value: 0.111402\n",
      "         Iterations: 10\n",
      "         Function evaluations: 11\n",
      "         Gradient evaluations: 11\n",
      "Finished at: 2017-05-29 10:22:27.870946.\n",
      "Calculating theta for 4 class.\n",
      "Warning: Maximum number of iterations has been exceeded.\n",
      "         Current function value: 0.081946\n",
      "         Iterations: 10\n",
      "         Function evaluations: 11\n",
      "         Gradient evaluations: 11\n",
      "Finished at: 2017-05-29 10:24:17.904696.\n",
      "Calculating theta for 5 class.\n",
      "Warning: Maximum number of iterations has been exceeded.\n",
      "         Current function value: 0.124663\n",
      "         Iterations: 10\n",
      "         Function evaluations: 11\n",
      "         Gradient evaluations: 11\n",
      "Finished at: 2017-05-29 10:26:19.978643.\n",
      "Calculating theta for 6 class.\n",
      "Warning: Maximum number of iterations has been exceeded.\n",
      "         Current function value: 0.059121\n",
      "         Iterations: 10\n",
      "         Function evaluations: 11\n",
      "         Gradient evaluations: 11\n",
      "Finished at: 2017-05-29 10:28:02.305114.\n",
      "Calculating theta for 7 class.\n",
      "Warning: Maximum number of iterations has been exceeded.\n",
      "         Current function value: 0.073418\n",
      "         Iterations: 10\n",
      "         Function evaluations: 11\n",
      "         Gradient evaluations: 11\n",
      "Finished at: 2017-05-29 10:29:39.450698.\n",
      "Calculating theta for 8 class.\n",
      "Warning: Maximum number of iterations has been exceeded.\n",
      "         Current function value: 0.166063\n",
      "         Iterations: 10\n",
      "         Function evaluations: 11\n",
      "         Gradient evaluations: 11\n",
      "Finished at: 2017-05-29 10:31:10.615949.\n",
      "Calculating theta for 9 class.\n",
      "Warning: Maximum number of iterations has been exceeded.\n",
      "         Current function value: 0.143735\n",
      "         Iterations: 10\n",
      "         Function evaluations: 11\n",
      "         Gradient evaluations: 11\n",
      "Finished at: 2017-05-29 10:32:55.962052.\n",
      "Calculating theta for 10 class.\n",
      "Warning: Maximum number of iterations has been exceeded.\n",
      "         Current function value: 0.050096\n",
      "         Iterations: 10\n",
      "         Function evaluations: 11\n",
      "         Gradient evaluations: 11\n",
      "Finished at: 2017-05-29 10:34:56.626248.\n",
      "Calculations ended.\n"
     ]
    }
   ],
   "source": [
    "init_theta = np.zeros(X.shape[1])\n",
    "lam = .1\n",
    "theta_history = dict()\n",
    "\n",
    "print(f'Starting calculations at: {str(datetime.now())}')\n",
    "for it in range(1,y_dummies.shape[1] + 1):\n",
    "    print(f'Calculating theta for {it} class.')\n",
    "    min_fun = minimize(calculate_cost_func, init_theta, jac=calculate_gradient, args=(X, y_dummies[it], lam), options={'maxiter':10, 'disp':True},)\n",
    "    theta_history[it] = min_fun.x\n",
    "    print(f'Finished at: {str(datetime.now())}.')\n",
    "print('Calculations ended.')"
   ]
  },
  {
   "cell_type": "code",
   "execution_count": 518,
   "metadata": {
    "collapsed": true
   },
   "outputs": [],
   "source": [
    "#make copy of theta output\n",
    "theta_history_min_10_iter = dict()    \n",
    "for theta in theta_history:\n",
    "    theta_history_min_10_iter[theta] = theta_history[theta]"
   ]
  },
  {
   "cell_type": "code",
   "execution_count": 514,
   "metadata": {
    "collapsed": false
   },
   "outputs": [
    {
     "data": {
      "text/plain": [
       "0.87239999999999995"
      ]
     },
     "execution_count": 514,
     "metadata": {},
     "output_type": "execute_result"
    }
   ],
   "source": [
    "predicted = get_prediction_results(theta_history, X)\n",
    "accuracy_score(y, predicted)"
   ]
  },
  {
   "cell_type": "markdown",
   "metadata": {},
   "source": [
    "When we use different algorithm we see some improvement in prediction results. So lets try use more iterations."
   ]
  },
  {
   "cell_type": "code",
   "execution_count": 519,
   "metadata": {
    "collapsed": false,
    "scrolled": true
   },
   "outputs": [
    {
     "name": "stdout",
     "output_type": "stream",
     "text": [
      "Starting calculations at: 2017-05-29 10:39:56.227019\n",
      "Calculating theta for 1 class.\n",
      "Warning: Maximum number of iterations has been exceeded.\n",
      "         Current function value: 0.023312\n",
      "         Iterations: 50\n",
      "         Function evaluations: 51\n",
      "         Gradient evaluations: 51\n",
      "Finished at: 2017-05-29 10:46:38.843022.\n",
      "Calculating theta for 2 class.\n",
      "Warning: Maximum number of iterations has been exceeded.\n",
      "         Current function value: 0.068360\n",
      "         Iterations: 50\n",
      "         Function evaluations: 51\n",
      "         Gradient evaluations: 51\n",
      "Finished at: 2017-05-29 10:53:04.297910.\n",
      "Calculating theta for 3 class.\n",
      "Warning: Maximum number of iterations has been exceeded.\n",
      "         Current function value: 0.071812\n",
      "         Iterations: 50\n",
      "         Function evaluations: 51\n",
      "         Gradient evaluations: 51\n",
      "Finished at: 2017-05-29 11:00:25.899231.\n",
      "Calculating theta for 4 class.\n",
      "Warning: Maximum number of iterations has been exceeded.\n",
      "         Current function value: 0.050061\n",
      "         Iterations: 50\n",
      "         Function evaluations: 51\n",
      "         Gradient evaluations: 51\n",
      "Finished at: 2017-05-29 11:07:59.929854.\n",
      "Calculating theta for 5 class.\n",
      "Warning: Maximum number of iterations has been exceeded.\n",
      "         Current function value: 0.075951\n",
      "         Iterations: 50\n",
      "         Function evaluations: 51\n",
      "         Gradient evaluations: 51\n",
      "Finished at: 2017-05-29 11:15:58.872109.\n",
      "Calculating theta for 6 class.\n",
      "Warning: Maximum number of iterations has been exceeded.\n",
      "         Current function value: 0.032799\n",
      "         Iterations: 50\n",
      "         Function evaluations: 51\n",
      "         Gradient evaluations: 51\n",
      "Finished at: 2017-05-29 11:23:31.152825.\n",
      "Calculating theta for 7 class.\n",
      "Warning: Maximum number of iterations has been exceeded.\n",
      "         Current function value: 0.045323\n",
      "         Iterations: 50\n",
      "         Function evaluations: 51\n",
      "         Gradient evaluations: 51\n",
      "Finished at: 2017-05-29 11:30:57.856859.\n",
      "Calculating theta for 8 class.\n",
      "Warning: Maximum number of iterations has been exceeded.\n",
      "         Current function value: 0.093309\n",
      "         Iterations: 50\n",
      "         Function evaluations: 51\n",
      "         Gradient evaluations: 51\n",
      "Finished at: 2017-05-29 11:39:59.443674.\n",
      "Calculating theta for 9 class.\n",
      "Warning: Maximum number of iterations has been exceeded.\n",
      "         Current function value: 0.087920\n",
      "         Iterations: 50\n",
      "         Function evaluations: 51\n",
      "         Gradient evaluations: 51\n",
      "Finished at: 2017-05-29 11:47:26.404474.\n",
      "Calculating theta for 10 class.\n",
      "Warning: Maximum number of iterations has been exceeded.\n",
      "         Current function value: 0.016445\n",
      "         Iterations: 50\n",
      "         Function evaluations: 51\n",
      "         Gradient evaluations: 51\n",
      "Finished at: 2017-05-29 11:53:26.297445.\n",
      "Calculations ended.\n"
     ]
    }
   ],
   "source": [
    "init_theta = np.zeros(X.shape[1])\n",
    "lam = .1\n",
    "theta_history = dict()\n",
    "\n",
    "print(f'Starting calculations at: {str(datetime.now())}')\n",
    "for it in range(1,y_dummies.shape[1] + 1):\n",
    "    print(f'Calculating theta for {it} class.')\n",
    "    min_fun = minimize(calculate_cost_func, init_theta, jac=calculate_gradient, args=(X, y_dummies[it], lam), method='BFGS', options={'maxiter':50, 'disp':True})\n",
    "    theta_history[it] = min_fun.x\n",
    "    print(f'Finished at: {str(datetime.now())}.')\n",
    "print('Calculations ended.')"
   ]
  },
  {
   "cell_type": "code",
   "execution_count": 521,
   "metadata": {
    "collapsed": false
   },
   "outputs": [
    {
     "data": {
      "text/plain": [
       "0.93240000000000001"
      ]
     },
     "execution_count": 521,
     "metadata": {},
     "output_type": "execute_result"
    }
   ],
   "source": [
    "predicted = get_prediction_results(theta_history, X)\n",
    "accuracy_score(y, predicted)"
   ]
  },
  {
   "cell_type": "markdown",
   "metadata": {},
   "source": [
    "Result is not as high as in instructions. Maximum number of iterations has been exceeded, so I guess giving higher maxiter number would help here, thought I skipped this step because of hight calculations time."
   ]
  },
  {
   "cell_type": "markdown",
   "metadata": {},
   "source": [
    "<img src='images/9.png'></img>\n",
    "<img src='images/10.png'></img>\n",
    "<img src='images/11.png'></img>"
   ]
  },
  {
   "cell_type": "code",
   "execution_count": 522,
   "metadata": {
    "collapsed": false
   },
   "outputs": [],
   "source": [
    "weights = sio.loadmat('data/ex3weights.mat')\n",
    "Theta1, Theta2 = weights['Theta1'], weights['Theta2']"
   ]
  },
  {
   "cell_type": "code",
   "execution_count": 527,
   "metadata": {
    "collapsed": true
   },
   "outputs": [],
   "source": [
    "def get_prediction_results_from_weigths(theta_weights, X):\n",
    "    predictions = dict()\n",
    "    idx = 0\n",
    "    for th in theta_weights:\n",
    "        predictions[idx] = predict(th, X)\n",
    "        idx = idx+1\n",
    "#     return pd.DataFrame(predictions).T.idxmax()\n",
    "    return predictions\n",
    "\n",
    "def get_predictions(Theta1, Theta2, X):\n",
    "    df = pd.DataFrame(get_prediction_results_from_weigths(Theta1, X))\n",
    "    df.insert(0, value=np.ones(df.shape[0]), column='ones')\n",
    "    predicted = pd.DataFrame(np.dot(df,Theta2.T)).T.idxmax()\n",
    "    #returning +1 because of indexing of train data\n",
    "    return predicted + 1"
   ]
  },
  {
   "cell_type": "code",
   "execution_count": 539,
   "metadata": {
    "collapsed": false
   },
   "outputs": [
    {
     "data": {
      "text/plain": [
       "0.97519999999999996"
      ]
     },
     "execution_count": 539,
     "metadata": {},
     "output_type": "execute_result"
    }
   ],
   "source": [
    "predicted = get_predictions(Theta1, Theta2, X)\n",
    "accuracy_score(y, predicted)"
   ]
  }
 ],
 "metadata": {
  "kernelspec": {
   "display_name": "Python 3",
   "language": "python",
   "name": "python3"
  },
  "language_info": {
   "codemirror_mode": {
    "name": "ipython",
    "version": 3
   },
   "file_extension": ".py",
   "mimetype": "text/x-python",
   "name": "python",
   "nbconvert_exporter": "python",
   "pygments_lexer": "ipython3",
   "version": "3.6.0"
  }
 },
 "nbformat": 4,
 "nbformat_minor": 2
}
