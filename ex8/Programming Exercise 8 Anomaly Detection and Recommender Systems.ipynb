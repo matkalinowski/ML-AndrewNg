{
 "cells": [
  {
   "cell_type": "code",
   "execution_count": 1,
   "metadata": {},
   "outputs": [],
   "source": [
    "% matplotlib inline\n",
    "from IPython.core.interactiveshell import InteractiveShell\n",
    "\n",
    "InteractiveShell.ast_node_interactivity = \"all\"\n",
    "\n",
    "import numpy as np\n",
    "import pandas as pd\n",
    "import scipy.io\n",
    "\n",
    "import seaborn as sns\n",
    "import matplotlib.pyplot as plt\n",
    "\n",
    "from math import isinf"
   ]
  },
  {
   "cell_type": "code",
   "execution_count": 66,
   "metadata": {},
   "outputs": [
    {
     "name": "stdout",
     "output_type": "stream",
     "text": [
      "Visualizing example dataset for outlier detection.\n"
     ]
    },
    {
     "data": {
      "text/plain": [
       "<seaborn.axisgrid.JointGrid at 0x1f599410be0>"
      ]
     },
     "execution_count": 66,
     "metadata": {},
     "output_type": "execute_result"
    },
    {
     "data": {
      "text/plain": [
       "[0, 30, 0, 30]"
      ]
     },
     "execution_count": 66,
     "metadata": {},
     "output_type": "execute_result"
    },
    {
     "data": {
      "text/plain": [
       "<matplotlib.text.Text at 0x1f59b632a90>"
      ]
     },
     "execution_count": 66,
     "metadata": {},
     "output_type": "execute_result"
    },
    {
     "data": {
      "text/plain": [
       "<matplotlib.text.Text at 0x1f59a3bf358>"
      ]
     },
     "execution_count": 66,
     "metadata": {},
     "output_type": "execute_result"
    },
    {
     "data": {
      "image/png": "[encoded data removed]",
      "text/plain": [
       "<matplotlib.figure.Figure at 0x1f59b6649b0>"
      ]
     },
     "metadata": {},
     "output_type": "display_data"
    }
   ],
   "source": [
    "print('Visualizing example dataset for outlier detection.')\n",
    "\n",
    "#  The following command loads the dataset. You should now have the\n",
    "#  variables X, Xval, yval in your environment\n",
    "data = scipy.io.loadmat('ex8data1.mat')\n",
    "X = data['X']\n",
    "Xval = data['Xval']\n",
    "yval = data['yval'].flatten()\n",
    "\n",
    "#  Visualize the example dataset\n",
    "# plt.plot(X[:, 0], X[:, 1], 'bx')\n",
    "g = sns.jointplot(x=X[:, 0], y=X[:, 1], data=X, kind=\"kde\", color=\"#C4B7D0\")\n",
    "g.plot_joint(plt.scatter, c=\"#207068\", s=30, linewidth=1, marker=\"+\")\n",
    "g.ax_joint.collections[0].set_alpha(0)\n",
    "plt.axis([0, 30, 0, 30])\n",
    "plt.xlabel('Latency (ms)')\n",
    "plt.ylabel('Throughput (mb/s)')"
   ]
  },
  {
   "cell_type": "code",
   "execution_count": 73,
   "metadata": {},
   "outputs": [],
   "source": [
    "def multivariateGaussian(X, mu, Sigma2):\n",
    "    \"\"\"Computes the probability\n",
    "    density function of the examples X under the multivariate gaussian\n",
    "    distribution with parameters mu and Sigma2. If Sigma2 is a matrix, it is\n",
    "    treated as the covariance matrix. If Sigma2 is a vector, it is treated\n",
    "    as the \\sigma^2 values of the variances in each dimension (a diagonal\n",
    "    covariance matrix)\n",
    "    \"\"\"\n",
    "    k = len(mu)\n",
    "\n",
    "    if Sigma2.ndim == 1:\n",
    "        Sigma2 = np.diag(Sigma2)\n",
    "\n",
    "    X = X - mu\n",
    "    p = (2 * np.pi) ** (- k / 2) * np.linalg.det(Sigma2) ** (-0.5) * \\\n",
    "        np.exp(-0.5 * np.sum(X.dot(np.linalg.pinv(Sigma2))*X, axis=1))\n",
    "\n",
    "    return p\n",
    "\n",
    "def visualizeFit(X, mu, sigma2):\n",
    "    \"\"\"\n",
    "    This visualization shows you the\n",
    "    probability density function of the Gaussian distribution. Each example\n",
    "    has a location (x1, x2) that depends on its feature values.\n",
    "    \"\"\"\n",
    "    fig, ax = plt.subplots(figsize=[8,8])\n",
    "    \n",
    "    n = np.linspace(0,35,71)\n",
    "    X1 = np.meshgrid(n,n)\n",
    "    Z = multivariateGaussian(np.column_stack((X1[0].T.flatten(), X1[1].T.flatten())),mu,sigma2)\n",
    "    Z = Z.reshape(X1[0].shape)\n",
    "\n",
    "    ax.plot(X[:, 0], X[:, 1],'bo')\n",
    "    # Do not plot if there are infinities\n",
    "    if not isinf(np.sum(Z)):\n",
    "        ax.contour(X1[0], X1[1], Z, 10.0**np.arange(-20, 0, 3).T)\n",
    "\n",
    "def estimateGaussian(X):\n",
    "    \"\"\"\n",
    "    This function estimates the parameters of a\n",
    "    Gaussian distribution using the data in X\n",
    "      The input X is the dataset with each n-dimensional data point in one row\n",
    "      The output is an n-dimensional vector mu, the mean of the data set\n",
    "      and the variances sigma^2, an n x 1 vector\n",
    "    \"\"\"\n",
    "    m = len(X)\n",
    "\n",
    "    # ====================== YOUR CODE HERE ======================\n",
    "    # Instructions: Compute the mean of the data and the variances\n",
    "    #               In particular, mu(i) should contain the mean of\n",
    "    #               the data for the i-th feature and sigma2(i)\n",
    "    #               should contain variance of the i-th feature.\n",
    "    #\n",
    "# =============================================================\n",
    "    mu = []\n",
    "    sigma2 = []\n",
    "    for col_num in range(0,X.shape[1]):\n",
    "        feature_col = X[:, col_num]\n",
    "        mu.append(feature_col.mean())\n",
    "        sigma2.append(np.var(feature_col))\n",
    "    return np.array(mu), np.array(sigma2)"
   ]
  },
  {
   "cell_type": "code",
   "execution_count": 88,
   "metadata": {},
   "outputs": [
    {
     "name": "stdout",
     "output_type": "stream",
     "text": [
      "Visualizing Gaussian fit.\n"
     ]
    },
    {
     "data": {
      "text/plain": [
       "<matplotlib.text.Text at 0x1f59b975e10>"
      ]
     },
     "execution_count": 88,
     "metadata": {},
     "output_type": "execute_result"
    },
    {
     "data": {
      "text/plain": [
       "<matplotlib.text.Text at 0x1f59badc5c0>"
      ]
     },
     "execution_count": 88,
     "metadata": {},
     "output_type": "execute_result"
    },
    {
     "data": {
      "image/png": "[encoded data removed]",
      "text/plain": [
       "<matplotlib.figure.Figure at 0x1f59baa5048>"
      ]
     },
     "metadata": {},
     "output_type": "display_data"
    }
   ],
   "source": [
    "print('Visualizing Gaussian fit.')\n",
    "\n",
    "#  Estimate my and sigma2\n",
    "mu, sigma2 = estimateGaussian(X)\n",
    "\n",
    "#  Returns the density of the multivariate normal at each data point (row) \n",
    "#  of X\n",
    "p = multivariateGaussian(X, mu, sigma2)\n",
    "\n",
    "#  Visualize the fit\n",
    "visualizeFit(X,  mu, sigma2)\n",
    "plt.xlabel('Latency (ms)')\n",
    "plt.ylabel('Throughput (mb/s)')"
   ]
  },
  {
   "cell_type": "code",
   "execution_count": 110,
   "metadata": {},
   "outputs": [],
   "source": [
    "from sklearn.metrics import f1_score\n",
    "\n",
    "def selectThreshold(yval, pval):\n",
    "    \"\"\"\n",
    "    finds the best\n",
    "    threshold to use for selecting outliers based on the results from a\n",
    "    validation set (pval) and the ground truth (yval).\n",
    "    \"\"\"\n",
    "\n",
    "    bestEpsilon = 0\n",
    "    bestF1 = 0\n",
    "\n",
    "    stepsize = (np.max(pval) - np.min(pval)) / 1000.0\n",
    "    for epsilon in np.arange(np.min(pval),np.max(pval), stepsize):\n",
    "        # ====================== YOUR CODE HERE ======================\n",
    "        # Instructions: Compute the F1 score of choosing epsilon as the\n",
    "        #               threshold and place the value in F1. The code at the\n",
    "        #               end of the loop will compare the F1 score for this\n",
    "        #               choice of epsilon and set it to be the best epsilon if\n",
    "        #               it is better than the current choice of epsilon.\n",
    "        #\n",
    "        # Note: You can use predictions = (pval < epsilon) to get a binary vector\n",
    "        #       of 0's and 1's of the outlier predictions\n",
    "        pred = (pval < epsilon).astype('int')\n",
    "        F1 = f1_score(yval, pred)\n",
    "        # =============================================================\n",
    "        if F1 > bestF1:\n",
    "           bestF1 = F1\n",
    "           bestEpsilon = epsilon\n",
    "\n",
    "    return bestEpsilon, bestF1\n"
   ]
  },
  {
   "cell_type": "code",
   "execution_count": 111,
   "metadata": {},
   "outputs": [
    {
     "name": "stderr",
     "output_type": "stream",
     "text": [
      "c:\\users\\matka\\anaconda3\\lib\\site-packages\\sklearn\\metrics\\classification.py:1113: UndefinedMetricWarning: F-score is ill-defined and being set to 0.0 due to no predicted samples.\n",
      "  'precision', 'predicted', average, warn_for)\n"
     ]
    },
    {
     "name": "stdout",
     "output_type": "stream",
     "text": [
      "Best epsilon found using cross-validation: 8.990853e-05\n",
      "Best F1 on Cross Validation Set:  0.875000\n",
      "   (you should see a value epsilon of about 8.99e-05)\n"
     ]
    },
    {
     "data": {
      "text/plain": [
       "[<matplotlib.lines.Line2D at 0x1f59c081ba8>]"
      ]
     },
     "execution_count": 111,
     "metadata": {},
     "output_type": "execute_result"
    },
    {
     "data": {
      "image/png": "[encoded data removed]",
      "text/plain": [
       "<matplotlib.figure.Figure at 0x1f59c081780>"
      ]
     },
     "metadata": {},
     "output_type": "display_data"
    }
   ],
   "source": [
    "\n",
    "pval = multivariateGaussian(Xval, mu, sigma2)\n",
    "\n",
    "epsilon, F1 = selectThreshold(yval, pval)\n",
    "print('Best epsilon found using cross-validation: %e' % epsilon)\n",
    "print('Best F1 on Cross Validation Set:  %f' % F1)\n",
    "print('   (you should see a value epsilon of about 8.99e-05)')\n",
    "\n",
    "#  Find the outliers in the training set and plot the\n",
    "outliers = np.where(p < epsilon, True, False)\n",
    "\n",
    "#  Draw a red circle around those outliers\n",
    "visualizeFit(X,  mu, sigma2)\n",
    "plt.plot(X[outliers, 0], X[outliers, 1], 'ro', lw=2, markersize=10, fillstyle='none', markeredgewidth=1)\n",
    "# show()"
   ]
  },
  {
   "cell_type": "code",
   "execution_count": 112,
   "metadata": {},
   "outputs": [
    {
     "name": "stderr",
     "output_type": "stream",
     "text": [
      "c:\\users\\matka\\anaconda3\\lib\\site-packages\\sklearn\\metrics\\classification.py:1113: UndefinedMetricWarning: F-score is ill-defined and being set to 0.0 due to no predicted samples.\n",
      "  'precision', 'predicted', average, warn_for)\n"
     ]
    },
    {
     "name": "stdout",
     "output_type": "stream",
     "text": [
      "Best epsilon found using cross-validation: 1.377229e-18\n",
      "Best F1 on Cross Validation Set:  0.615385\n",
      "# Outliers found: 117\n",
      "   (you should see a value epsilon of about 1.38e-18)\n"
     ]
    }
   ],
   "source": [
    "#  Loads the second dataset. You should now have the\n",
    "#  variables X, Xval, yval in your environment\n",
    "data = scipy.io.loadmat('ex8data2.mat')\n",
    "X = data['X']\n",
    "Xval = data['Xval']\n",
    "yval = data['yval'].flatten()\n",
    "\n",
    "#  Apply the same steps to the larger dataset\n",
    "mu, sigma2 = estimateGaussian(X)\n",
    "\n",
    "#  Training set \n",
    "p = multivariateGaussian(X, mu, sigma2)\n",
    "\n",
    "#  Cross-validation set\n",
    "pval = multivariateGaussian(Xval, mu, sigma2)\n",
    "\n",
    "#  Find the best threshold\n",
    "epsilon, F1 = selectThreshold(yval, pval)\n",
    "\n",
    "print('Best epsilon found using cross-validation: %e' % epsilon)\n",
    "print('Best F1 on Cross Validation Set:  %f' % F1)\n",
    "print('# Outliers found: %d' % sum(p < epsilon))\n",
    "print('   (you should see a value epsilon of about 1.38e-18)')"
   ]
  },
  {
   "cell_type": "markdown",
   "metadata": {},
   "source": [
    "# Recomender systems"
   ]
  },
  {
   "cell_type": "code",
   "execution_count": 2,
   "metadata": {},
   "outputs": [
    {
     "name": "stdout",
     "output_type": "stream",
     "text": [
      "Loading movie ratings dataset.\n",
      "Average rating for movie 1 (Toy Story): 3.878319 / 5\n"
     ]
    },
    {
     "data": {
      "text/plain": [
       "<matplotlib.figure.Figure at 0x2e01f2fe2b0>"
      ]
     },
     "execution_count": 2,
     "metadata": {},
     "output_type": "execute_result"
    },
    {
     "data": {
      "text/plain": [
       "<matplotlib.image.AxesImage at 0x2e023166588>"
      ]
     },
     "execution_count": 2,
     "metadata": {},
     "output_type": "execute_result"
    },
    {
     "data": {
      "text/plain": [
       "<matplotlib.text.Text at 0x2e0231049e8>"
      ]
     },
     "execution_count": 2,
     "metadata": {},
     "output_type": "execute_result"
    },
    {
     "data": {
      "text/plain": [
       "<matplotlib.text.Text at 0x2e020c2a6d8>"
      ]
     },
     "execution_count": 2,
     "metadata": {},
     "output_type": "execute_result"
    },
    {
     "data": {
      "image/png": "[encoded data removed]",
      "text/plain": [
       "<matplotlib.figure.Figure at 0x2e01f2fe2b0>"
      ]
     },
     "metadata": {},
     "output_type": "display_data"
    }
   ],
   "source": [
    "print('Loading movie ratings dataset.')\n",
    "\n",
    "#  Load data\n",
    "data = scipy.io.loadmat('ex8_movies.mat')\n",
    "Y = data['Y']\n",
    "R = data['R'].astype(bool)\n",
    "#  Y is a 1682x943 matrix, containing ratings (1-5) of 1682 movies on \n",
    "#  943 users\n",
    "#\n",
    "#  R is a 1682x943 matrix, where R(i,j) = 1 if and only if user j gave a\n",
    "#  rating to movie i\n",
    "\n",
    "#  From the matrix, we can compute statistics like average rating.\n",
    "print('Average rating for movie 1 (Toy Story): %f / 5' % np.mean(Y[0, R[0, :]]))\n",
    "\n",
    "#  We can \"visualize\" the ratings matrix by plotting it with imagesc\n",
    "\n",
    "plt.figure()\n",
    "plt.imshow(Y, aspect='equal', origin='upper', extent=(0, Y.shape[1], 0, Y.shape[0]/2.0))\n",
    "plt.ylabel('Movies')\n",
    "plt.xlabel('Users')\n"
   ]
  },
  {
   "cell_type": "code",
   "execution_count": 20,
   "metadata": {},
   "outputs": [],
   "source": [
    "def calc_err_factor(X, Theta, Y, R):\n",
    "    return (np.dot(X, Theta.T) - Y)* R\n",
    "\n",
    "def cofiCostFunc(params, Y, R, num_users, num_movies, num_features, Lambda):\n",
    "    \"\"\"returns the cost and gradient for the\n",
    "    \"\"\"\n",
    "\n",
    "    # Unfold the U and W matrices from params\n",
    "    X = np.array(params[:num_movies*num_features]).reshape(num_features, num_movies).T.copy()\n",
    "    Theta = np.array(params[num_movies*num_features:]).reshape(num_features, num_users).T.copy()\n",
    "\n",
    "\n",
    "    # You need to return the following values correctly\n",
    "    J = 0\n",
    "    X_grad = np.zeros(X.shape)\n",
    "    Theta_grad = np.zeros(Theta.shape)\n",
    "\n",
    "    # ====================== YOUR CODE HERE ======================\n",
    "    # Instructions: Compute the cost function and gradient for collaborative\n",
    "    #               filtering. Concretely, you should first implement the cost\n",
    "    #               function (without regularization) and make sure it is\n",
    "    #               matches our costs. After that, you should implement the\n",
    "    #               gradient and use the checkCostFunction routine to check\n",
    "    #               that the gradient is correct. Finally, you should implement\n",
    "    #               regularization.\n",
    "    #\n",
    "    # Notes: X - num_movies  x num_features matrix of movie features\n",
    "    #        Theta - num_users  x num_features matrix of user features\n",
    "    #        Y - num_movies x num_users matrix of user ratings of movies\n",
    "    #        R - num_movies x num_users matrix, where R(i, j) = 1 if the\n",
    "    #            i-th movie was rated by the j-th user\n",
    "    #\n",
    "    # You should set the following variables correctly:\n",
    "    #\n",
    "    #        X_grad - num_movies x num_features matrix, containing the\n",
    "    #                 partial derivatives w.r.t. to each element of X\n",
    "    #        Theta_grad - num_users x num_features matrix, containing the\n",
    "    #                     partial derivatives w.r.t. to each element of Theta\n",
    "    cst = np.power(calc_err_factor(X, Theta, Y, R),2)\n",
    "    J = np.sum(cst) / 2\n",
    "    # =============================================================\n",
    "    lam = Lambda / 2\n",
    "    X_reg = np.sum(np.power(Theta, 2)) * lam\n",
    "    Theta_reg = np.sum(np.power(X, 2)) * lam\n",
    "    \n",
    "    J = J + X_reg + Theta_reg\n",
    "    \n",
    "    X_grad = np.dot(calc_err_factor(X, Theta, Y, R), Theta) + (Lambda * X)\n",
    "    Theta_grad = np.dot(calc_err_factor(X, Theta, Y, R).T, X) + (Lambda * Theta)\n",
    "    \n",
    "    grad = np.hstack((X_grad.T.flatten(),Theta_grad.T.flatten()))\n",
    "\n",
    "    return J, grad\n"
   ]
  },
  {
   "cell_type": "code",
   "execution_count": 13,
   "metadata": {},
   "outputs": [
    {
     "name": "stdout",
     "output_type": "stream",
     "text": [
      "X_reg:  0.0\n",
      "Theta_reg:  0.0\n",
      "Cost at loaded parameters: 22.224604 \n",
      "(this value should be about 22.22)\n"
     ]
    }
   ],
   "source": [
    "data = scipy.io.loadmat('ex8_movieParams.mat')\n",
    "X = data['X']\n",
    "Theta = data['Theta']\n",
    "num_users = data['num_users']\n",
    "num_movies = data['num_movies']\n",
    "num_features = data['num_features']\n",
    "\n",
    "#  Reduce the data set size so that this runs faster\n",
    "num_users = 4\n",
    "num_movies = 5\n",
    "num_features = 3\n",
    "X = X[:num_movies, :num_features]\n",
    "Theta = Theta[:num_users, :num_features]\n",
    "Y = Y[:num_movies, :num_users]\n",
    "R = R[:num_movies, :num_users]\n",
    "\n",
    "#  Evaluate cost function\n",
    "J, grad = cofiCostFunc(np.hstack((X.T.flatten(), Theta.T.flatten())), Y, R, num_users, num_movies,\n",
    "               num_features, 0)\n",
    "\n",
    "print('Cost at loaded parameters: %f \\n(this value should be about 22.22)' % J)"
   ]
  },
  {
   "cell_type": "code",
   "execution_count": 18,
   "metadata": {},
   "outputs": [],
   "source": [
    "def computeNumericalGradient(J, theta):\n",
    "    \"\"\"computes the numerical gradient of the function J around theta.\n",
    "    Calling y = J(theta) should return the function value at theta.\n",
    "    \"\"\"\n",
    "# Notes: The following code implements numerical gradient checking, and \n",
    "#        returns the numerical gradient.It sets numgrad(i) to (a numerical \n",
    "#        approximation of) the partial derivative of J with respect to the \n",
    "#        i-th input argument, evaluated at theta. (i.e., numgrad(i) should \n",
    "#        be the (approximately) the partial derivative of J with respect \n",
    "#        to theta(i).)\n",
    "\n",
    "    numgrad = np.zeros(theta.shape[0])\n",
    "    perturb = np.zeros(theta.shape[0])\n",
    "    e = 1e-4\n",
    "    for p in range(theta.size):\n",
    "\n",
    "        # Set perturbation vector\n",
    "        perturb[p] = e\n",
    "        loss1 = J(theta - perturb)\n",
    "        loss2 = J(theta + perturb)\n",
    "\n",
    "        # Compute Numerical Gradient\n",
    "        numgrad[p] = (loss2[0] - loss1[0]) / (2*e)\n",
    "        perturb[p] = 0\n",
    "\n",
    "    return numgrad\n",
    "\n",
    "def checkCostFunction(Lambda=0):\n",
    "    \"\"\"Creates a collaborative filering problem\n",
    "    to check your cost function and gradients, it will output the\n",
    "    analytical gradients produced by your code and the numerical gradients\n",
    "    (computed using computeNumericalGradient). These two gradient\n",
    "    computations should result in very similar values.\n",
    "    \"\"\"\n",
    "\n",
    "    ## Create small problem\n",
    "    X_t = np.random.rand(4, 3)\n",
    "    Theta_t = np.random.rand(5, 3)\n",
    "\n",
    "    # Zap out most entries\n",
    "    Y = X_t.dot(Theta_t.T)\n",
    "    Y[np.where(np.random.random_sample(Y.shape) > 0.5, True, False)] = 0\n",
    "    R = np.zeros(Y.shape)\n",
    "    R[np.where(Y != 0, True, False)] = 1\n",
    "\n",
    "    ## Run Gradient Checking\n",
    "    X = np.random.random_sample(X_t.shape)\n",
    "    Theta = np.random.random_sample(Theta_t.shape)\n",
    "    num_users = Y.shape[1]\n",
    "    num_movies = Y.shape[0]\n",
    "    num_features = Theta_t.shape[1]\n",
    "\n",
    "   # Unroll parameters\n",
    "    params = np.hstack((X.T.flatten(), Theta.T.flatten()))\n",
    "\n",
    "    costFunc = lambda t: cofiCostFunc(t, Y, R, num_users, num_movies, num_features, Lambda)\n",
    "\n",
    "    def costFunc_w(t):\n",
    "        Jgrad = costFunc(t)\n",
    "        return Jgrad\n",
    "\n",
    "    numgrad = computeNumericalGradient(costFunc_w, params)\n",
    "\n",
    "    cost, grad = cofiCostFunc(params, Y, R, num_users, num_movies, num_features, Lambda)\n",
    "\n",
    "    print(np.column_stack((numgrad, grad)))\n",
    "\n",
    "    print('The above two columns you get should be very similar.\\n'\n",
    "          '(Left-Your Numerical Gradient, Right-Analytical Gradient)\\n\\n')\n",
    "\n",
    "    diff = np.linalg.norm(numgrad-grad)/np.linalg.norm(numgrad+grad)\n",
    "\n",
    "    print('If your backpropagation implementation is correct, then\\n '\n",
    "          'the relative difference will be small (less than 1e-9). \\n'\n",
    "          '\\nRelative Difference: %g\\n' % diff)"
   ]
  },
  {
   "cell_type": "code",
   "execution_count": 6,
   "metadata": {},
   "outputs": [
    {
     "name": "stdout",
     "output_type": "stream",
     "text": [
      "Checking Gradients (without regularization) ...\n",
      "[[-0.36246324 -0.36246324]\n",
      " [ 0.65838934  0.65838934]\n",
      " [ 0.51316419  0.51316419]\n",
      " [ 0.12143459  0.12143459]\n",
      " [ 0.13603337  0.13603337]\n",
      " [ 0.38543046  0.38543046]\n",
      " [ 0.49963083  0.49963083]\n",
      " [ 0.50910368  0.50910368]\n",
      " [-0.00326615 -0.00326615]\n",
      " [ 0.64859832  0.64859832]\n",
      " [ 0.86336935  0.86336935]\n",
      " [ 0.67057235  0.67057235]\n",
      " [ 0.13924584  0.13924584]\n",
      " [ 0.92922205  0.92922205]\n",
      " [ 0.4922952   0.4922952 ]\n",
      " [-2.05134927 -2.05134927]\n",
      " [ 0.58830452  0.58830452]\n",
      " [ 0.04953503  0.04953503]\n",
      " [ 0.53634484  0.53634484]\n",
      " [ 0.35214442  0.35214442]\n",
      " [-1.70204554 -1.70204554]\n",
      " [ 0.48175974  0.48175974]\n",
      " [ 0.22247626  0.22247626]\n",
      " [ 1.47849312  1.47849312]\n",
      " [ 1.04672282  1.04672282]\n",
      " [-2.06824442 -2.06824442]\n",
      " [ 0.53505458  0.53505458]]\n",
      "The above two columns you get should be very similar.\n",
      "(Left-Your Numerical Gradient, Right-Analytical Gradient)\n",
      "\n",
      "\n",
      "If your backpropagation implementation is correct, then\n",
      " the relative difference will be small (less than 1e-9). \n",
      "\n",
      "Relative Difference: 7.08954e-13\n",
      "\n"
     ]
    }
   ],
   "source": [
    "print('Checking Gradients (without regularization) ...')\n",
    "\n",
    "#  Check gradients by running checkNNGradients\n",
    "checkCostFunction()"
   ]
  },
  {
   "cell_type": "code",
   "execution_count": 16,
   "metadata": {},
   "outputs": [
    {
     "name": "stdout",
     "output_type": "stream",
     "text": [
      "Cost at loaded parameters (lambda = 1.5): 31.344056 \n",
      "(this value should be about 31.34)\n",
      "\n"
     ]
    }
   ],
   "source": [
    "#  Evaluate cost function\n",
    "J, grad = cofiCostFunc(np.hstack((X.T.flatten(), Theta.T.flatten())), Y, R, num_users, num_movies,\n",
    "               num_features, 1.5)\n",
    "\n",
    "print('Cost at loaded parameters (lambda = 1.5): %f \\n(this value should be about 31.34)\\n' % J)\n"
   ]
  },
  {
   "cell_type": "code",
   "execution_count": 21,
   "metadata": {},
   "outputs": [
    {
     "name": "stdout",
     "output_type": "stream",
     "text": [
      "Checking Gradients (with regularization) ...\n",
      "[[ 2.10330655  2.10330655]\n",
      " [ 0.37389982  0.37389982]\n",
      " [ 0.06215942  0.06215942]\n",
      " [ 0.58748263  0.58748263]\n",
      " [ 2.57738743  2.57738743]\n",
      " [ 1.83195966  1.83195966]\n",
      " [ 0.18381011  0.18381011]\n",
      " [ 1.69298708  1.69298708]\n",
      " [ 3.21457466  3.21457466]\n",
      " [ 0.08507165  0.08507165]\n",
      " [ 1.38088496  1.38088496]\n",
      " [ 1.96993766  1.96993766]\n",
      " [ 0.84284966  0.84284966]\n",
      " [ 1.40465666  1.40465666]\n",
      " [ 0.63805272  0.63805272]\n",
      " [ 0.9399751   0.9399751 ]\n",
      " [ 1.65443877  1.65443877]\n",
      " [ 2.06377808  2.06377808]\n",
      " [ 0.19748836  0.19748836]\n",
      " [ 0.5021456   0.5021456 ]\n",
      " [ 0.83992107  0.83992107]\n",
      " [ 2.47614745  2.47614745]\n",
      " [ 2.69504115  2.69504115]\n",
      " [ 1.42287189  1.42287189]\n",
      " [ 0.32129569  0.32129569]\n",
      " [ 0.11529285  0.11529285]\n",
      " [ 2.01816509  2.01816509]]\n",
      "The above two columns you get should be very similar.\n",
      "(Left-Your Numerical Gradient, Right-Analytical Gradient)\n",
      "\n",
      "\n",
      "If your backpropagation implementation is correct, then\n",
      " the relative difference will be small (less than 1e-9). \n",
      "\n",
      "Relative Difference: 1.51463e-12\n",
      "\n"
     ]
    }
   ],
   "source": [
    "print('Checking Gradients (with regularization) ...')\n",
    "\n",
    "#  Check gradients by running checkNNGradients\n",
    "checkCostFunction(1.5)\n"
   ]
  },
  {
   "cell_type": "code",
   "execution_count": 25,
   "metadata": {},
   "outputs": [],
   "source": [
    "import io\n",
    "\n",
    "def loadMovieList():\n",
    "    \"\"\"\n",
    "    reads the fixed movie list in movie.txt\n",
    "    and returns a cell array of the words in movieList.\n",
    "    \"\"\"\n",
    "\n",
    "    ## Read the fixed movieulary list\n",
    "    with io.open('movie_ids.txt', encoding='ISO-8859-1') as f:\n",
    "\n",
    "        # Store all movies in cell array movie{}\n",
    "        n = 1682  # Total number of movies \n",
    "\n",
    "        movieList = []\n",
    "        for i in range(n):\n",
    "            # Read line\n",
    "            line = f.readline()\n",
    "            # Word Index (can ignore since it will be = i)\n",
    "            str = line.split()\n",
    "            # Actual Word\n",
    "            movieList.append(' '.join(str[1:]).strip())\n",
    "        return movieList\n"
   ]
  },
  {
   "cell_type": "code",
   "execution_count": 26,
   "metadata": {},
   "outputs": [
    {
     "name": "stdout",
     "output_type": "stream",
     "text": [
      "New user ratings:\n",
      "Rated 4 for Toy Story (1995)\n",
      "\n",
      "Rated 3 for Twelve Monkeys (1995)\n",
      "\n",
      "Rated 5 for Usual Suspects, The (1995)\n",
      "\n",
      "Rated 4 for Outbreak (1995)\n",
      "\n",
      "Rated 5 for Shawshank Redemption, The (1994)\n",
      "\n",
      "Rated 3 for While You Were Sleeping (1995)\n",
      "\n",
      "Rated 5 for Forrest Gump (1994)\n",
      "\n",
      "Rated 2 for Silence of the Lambs, The (1991)\n",
      "\n",
      "Rated 4 for Alien (1979)\n",
      "\n",
      "Rated 5 for Die Hard 2 (1990)\n",
      "\n",
      "Rated 5 for Sphere (1998)\n",
      "\n"
     ]
    }
   ],
   "source": [
    "movieList = loadMovieList()\n",
    "\n",
    "#  Initialize my ratings\n",
    "my_ratings = np.zeros(1682)\n",
    "\n",
    "# Check the file movie_idx.txt for id of each movie in our dataset\n",
    "# For example, Toy Story (1995) has ID 1, so to rate it \"4\", you can set\n",
    "my_ratings[0] = 4\n",
    "\n",
    "# Or suppose did not enjoy Silence of the Lambs (1991), you can set\n",
    "my_ratings[97] = 2\n",
    "\n",
    "# We have selected a few movies we liked / did not like and the ratings we\n",
    "# gave are as follows:\n",
    "my_ratings[6] = 3\n",
    "my_ratings[11] = 5\n",
    "my_ratings[53] = 4\n",
    "my_ratings[63] = 5\n",
    "my_ratings[65] = 3\n",
    "my_ratings[68] = 5\n",
    "my_ratings[182] = 4\n",
    "my_ratings[225] = 5\n",
    "my_ratings[354] = 5\n",
    "\n",
    "print('New user ratings:')\n",
    "for i in range(len(my_ratings)):\n",
    "    if my_ratings[i] > 0:\n",
    "        print('Rated %d for %s\\n' % (my_ratings[i], movieList[i]))\n"
   ]
  },
  {
   "cell_type": "code",
   "execution_count": 28,
   "metadata": {},
   "outputs": [],
   "source": [
    "def normalizeRatings(Y, R):\n",
    "    \"\"\"normalized Y so that each movie has a rating of 0 on average,\n",
    "    and returns the mean rating in Ymean.\n",
    "    \"\"\"\n",
    "\n",
    "    m, n = Y.shape\n",
    "    Ymean = np.zeros(m)\n",
    "    Ynorm = np.zeros(Y.shape)\n",
    "\n",
    "    for i in range(n):\n",
    "        idx = (R[i,:]==1).nonzero()[0]\n",
    "        if len(idx):\n",
    "            Ymean[i] = np.mean(Y[i, idx])\n",
    "            Ynorm[i, idx] = Y[i, idx] - Ymean[i]\n",
    "        else:\n",
    "            Ymean[i] = 0.0\n",
    "            Ynorm[i,idx] = 0.0\n",
    "\n",
    "    return Ynorm, Ymean\n"
   ]
  },
  {
   "cell_type": "code",
   "execution_count": 30,
   "metadata": {},
   "outputs": [
    {
     "name": "stdout",
     "output_type": "stream",
     "text": [
      "\n",
      "Training collaborative filtering...\n",
      "Optimization terminated successfully.\n",
      "         Current function value: 35118.790099\n",
      "         Iterations: 280\n",
      "         Function evaluations: 425\n",
      "         Gradient evaluations: 425\n",
      "Recommender system learning completed.\n"
     ]
    }
   ],
   "source": [
    "from scipy.optimize import minimize\n",
    "\n",
    "print('\\nTraining collaborative filtering...')\n",
    "\n",
    "#  Load data\n",
    "data = scipy.io.loadmat('ex8_movies.mat')\n",
    "Y = data['Y']\n",
    "R = data['R'].astype(bool)\n",
    "\n",
    "#  Y is a 1682x943 matrix, containing ratings (1-5) of 1682 movies by \n",
    "#  943 users\n",
    "#\n",
    "#  R is a 1682x943 matrix, where R(i,j) = 1 if and only if user j gave a\n",
    "#  rating to movie i\n",
    "\n",
    "#  Add our own ratings to the data matrix\n",
    "Y = np.column_stack((my_ratings, Y))\n",
    "R = np.column_stack((my_ratings, R)).astype(bool)\n",
    "\n",
    "#  Normalize Ratings\n",
    "Ynorm, Ymean = normalizeRatings(Y, R)\n",
    "\n",
    "#  Useful Values\n",
    "num_users = Y.shape[1]\n",
    "num_movies = Y.shape[0]\n",
    "num_features = 10\n",
    "\n",
    "# Set Initial Parameters (Theta, X)\n",
    "X = np.random.rand(num_movies, num_features)\n",
    "Theta = np.random.rand(num_users, num_features)\n",
    "\n",
    "initial_parameters = np.hstack((X.T.flatten(), Theta.T.flatten()))\n",
    "# Set Regularization\n",
    "Lambda = 10\n",
    "\n",
    "costFunc = lambda p: cofiCostFunc(p, Ynorm, R, num_users, num_movies, num_features, Lambda)[0]\n",
    "gradFunc = lambda p: cofiCostFunc(p, Ynorm, R, num_users, num_movies, num_features, Lambda)[1]\n",
    "\n",
    "result = minimize(costFunc, initial_parameters, method='CG', jac=gradFunc, options={'disp': True, 'maxiter': 1000.0})\n",
    "theta = result.x\n",
    "cost = result.fun\n",
    "\n",
    "\n",
    "# Unfold the returned theta back into U and W\n",
    "X = theta[:num_movies*num_features].reshape(num_movies, num_features)\n",
    "Theta = theta[num_movies*num_features:].reshape(num_users, num_features)\n",
    "\n",
    "print('Recommender system learning completed.')"
   ]
  },
  {
   "cell_type": "code",
   "execution_count": 31,
   "metadata": {},
   "outputs": [
    {
     "name": "stdout",
     "output_type": "stream",
     "text": [
      "\n",
      "Top recommendations for you:\n",
      "Predicting rating 5.6 for movie Lawrence of Arabia (1962)\n",
      "\n",
      "Predicting rating 5.1 for movie Usual Suspects, The (1995)\n",
      "\n",
      "Predicting rating 5.0 for movie Graduate, The (1967)\n",
      "\n",
      "Predicting rating 5.0 for movie Great Day in Harlem, A (1994)\n",
      "\n",
      "Predicting rating 5.0 for movie Raging Bull (1980)\n",
      "\n",
      "Predicting rating 4.8 for movie My Own Private Idaho (1991)\n",
      "\n",
      "Predicting rating 4.7 for movie Third Man, The (1949)\n",
      "\n",
      "Predicting rating 4.6 for movie When Harry Met Sally... (1989)\n",
      "\n",
      "Predicting rating 4.6 for movie Big Sleep, The (1946)\n",
      "\n",
      "Predicting rating 4.6 for movie Braveheart (1995)\n",
      "\n",
      "\n",
      "Original ratings provided:\n",
      "Rated 4 for Toy Story (1995)\n",
      "\n",
      "Rated 3 for Twelve Monkeys (1995)\n",
      "\n",
      "Rated 5 for Usual Suspects, The (1995)\n",
      "\n",
      "Rated 4 for Outbreak (1995)\n",
      "\n",
      "Rated 5 for Shawshank Redemption, The (1994)\n",
      "\n",
      "Rated 3 for While You Were Sleeping (1995)\n",
      "\n",
      "Rated 5 for Forrest Gump (1994)\n",
      "\n",
      "Rated 2 for Silence of the Lambs, The (1991)\n",
      "\n",
      "Rated 4 for Alien (1979)\n",
      "\n",
      "Rated 5 for Die Hard 2 (1990)\n",
      "\n",
      "Rated 5 for Sphere (1998)\n",
      "\n"
     ]
    }
   ],
   "source": [
    "p = X.dot(Theta.T)\n",
    "my_predictions = p[:, 0] + Ymean\n",
    "\n",
    "movieList = loadMovieList()\n",
    "\n",
    "# sort predictions descending\n",
    "pre=np.array([[idx, p] for idx, p in enumerate(my_predictions)])\n",
    "post = pre[pre[:,1].argsort()[::-1]]\n",
    "r = post[:,1]\n",
    "ix = post[:,0]\n",
    "\n",
    "print('\\nTop recommendations for you:')\n",
    "for i in range(10):\n",
    "    j = int(ix[i])\n",
    "    print('Predicting rating %.1f for movie %s\\n' % (my_predictions[j], movieList[j]))\n",
    "\n",
    "print('\\nOriginal ratings provided:')\n",
    "for i in range(len(my_ratings)):\n",
    "    if my_ratings[i] > 0:\n",
    "        print('Rated %d for %s\\n' % (my_ratings[i], movieList[i]))"
   ]
  }
 ],
 "metadata": {
  "kernelspec": {
   "display_name": "Python 3",
   "language": "python",
   "name": "python3"
  },
  "language_info": {
   "codemirror_mode": {
    "name": "ipython",
    "version": 3
   },
   "file_extension": ".py",
   "mimetype": "text/x-python",
   "name": "python",
   "nbconvert_exporter": "python",
   "pygments_lexer": "ipython3",
   "version": "3.6.1"
  }
 },
 "nbformat": 4,
 "nbformat_minor": 2
}
